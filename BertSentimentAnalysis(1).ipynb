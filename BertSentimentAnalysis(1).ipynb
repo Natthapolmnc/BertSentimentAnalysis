{
  "nbformat": 4,
  "nbformat_minor": 0,
  "metadata": {
    "accelerator": "GPU",
    "colab": {
      "name": "BertSentimentAnalysis.ipynb",
      "provenance": [],
      "collapsed_sections": [
        "tX2GXwhA6STm"
      ]
    },
    "kernelspec": {
      "display_name": "Python 3",
      "name": "python3"
    },
    "widgets": {
      "application/vnd.jupyter.widget-state+json": {
        "2e733c4f841f49f0af28369e89369195": {
          "model_module": "@jupyter-widgets/controls",
          "model_name": "HBoxModel",
          "state": {
            "_view_name": "HBoxView",
            "_dom_classes": [],
            "_model_name": "HBoxModel",
            "_view_module": "@jupyter-widgets/controls",
            "_model_module_version": "1.5.0",
            "_view_count": null,
            "_view_module_version": "1.5.0",
            "box_style": "",
            "layout": "IPY_MODEL_f1effaaefeee4f5dbe84aac12c1dfb35",
            "_model_module": "@jupyter-widgets/controls",
            "children": [
              "IPY_MODEL_0199b582bc3f4cee8c6e329279a9fdda",
              "IPY_MODEL_d5a479890cf14772b194ca5fb504598e"
            ]
          }
        },
        "f1effaaefeee4f5dbe84aac12c1dfb35": {
          "model_module": "@jupyter-widgets/base",
          "model_name": "LayoutModel",
          "state": {
            "_view_name": "LayoutView",
            "grid_template_rows": null,
            "right": null,
            "justify_content": null,
            "_view_module": "@jupyter-widgets/base",
            "overflow": null,
            "_model_module_version": "1.2.0",
            "_view_count": null,
            "flex_flow": null,
            "width": null,
            "min_width": null,
            "border": null,
            "align_items": null,
            "bottom": null,
            "_model_module": "@jupyter-widgets/base",
            "top": null,
            "grid_column": null,
            "overflow_y": null,
            "overflow_x": null,
            "grid_auto_flow": null,
            "grid_area": null,
            "grid_template_columns": null,
            "flex": null,
            "_model_name": "LayoutModel",
            "justify_items": null,
            "grid_row": null,
            "max_height": null,
            "align_content": null,
            "visibility": null,
            "align_self": null,
            "height": null,
            "min_height": null,
            "padding": null,
            "grid_auto_rows": null,
            "grid_gap": null,
            "max_width": null,
            "order": null,
            "_view_module_version": "1.2.0",
            "grid_template_areas": null,
            "object_position": null,
            "object_fit": null,
            "grid_auto_columns": null,
            "margin": null,
            "display": null,
            "left": null
          }
        },
        "0199b582bc3f4cee8c6e329279a9fdda": {
          "model_module": "@jupyter-widgets/controls",
          "model_name": "FloatProgressModel",
          "state": {
            "_view_name": "ProgressView",
            "style": "IPY_MODEL_8d5b3117b8d44bbda25f6ca62b755834",
            "_dom_classes": [],
            "description": "Downloading: 100%",
            "_model_name": "FloatProgressModel",
            "bar_style": "success",
            "max": 433,
            "_view_module": "@jupyter-widgets/controls",
            "_model_module_version": "1.5.0",
            "value": 433,
            "_view_count": null,
            "_view_module_version": "1.5.0",
            "orientation": "horizontal",
            "min": 0,
            "description_tooltip": null,
            "_model_module": "@jupyter-widgets/controls",
            "layout": "IPY_MODEL_fabb0e7f6c6543c689463c3aba879482"
          }
        },
        "d5a479890cf14772b194ca5fb504598e": {
          "model_module": "@jupyter-widgets/controls",
          "model_name": "HTMLModel",
          "state": {
            "_view_name": "HTMLView",
            "style": "IPY_MODEL_66a5f23eab854b7384005d1efac30bf4",
            "_dom_classes": [],
            "description": "",
            "_model_name": "HTMLModel",
            "placeholder": "​",
            "_view_module": "@jupyter-widgets/controls",
            "_model_module_version": "1.5.0",
            "value": " 433/433 [00:00&lt;00:00, 7.40kB/s]",
            "_view_count": null,
            "_view_module_version": "1.5.0",
            "description_tooltip": null,
            "_model_module": "@jupyter-widgets/controls",
            "layout": "IPY_MODEL_870ed0f5be0d4e70b79afebab3375cb0"
          }
        },
        "8d5b3117b8d44bbda25f6ca62b755834": {
          "model_module": "@jupyter-widgets/controls",
          "model_name": "ProgressStyleModel",
          "state": {
            "_view_name": "StyleView",
            "_model_name": "ProgressStyleModel",
            "description_width": "initial",
            "_view_module": "@jupyter-widgets/base",
            "_model_module_version": "1.5.0",
            "_view_count": null,
            "_view_module_version": "1.2.0",
            "bar_color": null,
            "_model_module": "@jupyter-widgets/controls"
          }
        },
        "fabb0e7f6c6543c689463c3aba879482": {
          "model_module": "@jupyter-widgets/base",
          "model_name": "LayoutModel",
          "state": {
            "_view_name": "LayoutView",
            "grid_template_rows": null,
            "right": null,
            "justify_content": null,
            "_view_module": "@jupyter-widgets/base",
            "overflow": null,
            "_model_module_version": "1.2.0",
            "_view_count": null,
            "flex_flow": null,
            "width": null,
            "min_width": null,
            "border": null,
            "align_items": null,
            "bottom": null,
            "_model_module": "@jupyter-widgets/base",
            "top": null,
            "grid_column": null,
            "overflow_y": null,
            "overflow_x": null,
            "grid_auto_flow": null,
            "grid_area": null,
            "grid_template_columns": null,
            "flex": null,
            "_model_name": "LayoutModel",
            "justify_items": null,
            "grid_row": null,
            "max_height": null,
            "align_content": null,
            "visibility": null,
            "align_self": null,
            "height": null,
            "min_height": null,
            "padding": null,
            "grid_auto_rows": null,
            "grid_gap": null,
            "max_width": null,
            "order": null,
            "_view_module_version": "1.2.0",
            "grid_template_areas": null,
            "object_position": null,
            "object_fit": null,
            "grid_auto_columns": null,
            "margin": null,
            "display": null,
            "left": null
          }
        },
        "66a5f23eab854b7384005d1efac30bf4": {
          "model_module": "@jupyter-widgets/controls",
          "model_name": "DescriptionStyleModel",
          "state": {
            "_view_name": "StyleView",
            "_model_name": "DescriptionStyleModel",
            "description_width": "",
            "_view_module": "@jupyter-widgets/base",
            "_model_module_version": "1.5.0",
            "_view_count": null,
            "_view_module_version": "1.2.0",
            "_model_module": "@jupyter-widgets/controls"
          }
        },
        "870ed0f5be0d4e70b79afebab3375cb0": {
          "model_module": "@jupyter-widgets/base",
          "model_name": "LayoutModel",
          "state": {
            "_view_name": "LayoutView",
            "grid_template_rows": null,
            "right": null,
            "justify_content": null,
            "_view_module": "@jupyter-widgets/base",
            "overflow": null,
            "_model_module_version": "1.2.0",
            "_view_count": null,
            "flex_flow": null,
            "width": null,
            "min_width": null,
            "border": null,
            "align_items": null,
            "bottom": null,
            "_model_module": "@jupyter-widgets/base",
            "top": null,
            "grid_column": null,
            "overflow_y": null,
            "overflow_x": null,
            "grid_auto_flow": null,
            "grid_area": null,
            "grid_template_columns": null,
            "flex": null,
            "_model_name": "LayoutModel",
            "justify_items": null,
            "grid_row": null,
            "max_height": null,
            "align_content": null,
            "visibility": null,
            "align_self": null,
            "height": null,
            "min_height": null,
            "padding": null,
            "grid_auto_rows": null,
            "grid_gap": null,
            "max_width": null,
            "order": null,
            "_view_module_version": "1.2.0",
            "grid_template_areas": null,
            "object_position": null,
            "object_fit": null,
            "grid_auto_columns": null,
            "margin": null,
            "display": null,
            "left": null
          }
        },
        "c1d67d2f17774f71a1aaf0140eb3862b": {
          "model_module": "@jupyter-widgets/controls",
          "model_name": "HBoxModel",
          "state": {
            "_view_name": "HBoxView",
            "_dom_classes": [],
            "_model_name": "HBoxModel",
            "_view_module": "@jupyter-widgets/controls",
            "_model_module_version": "1.5.0",
            "_view_count": null,
            "_view_module_version": "1.5.0",
            "box_style": "",
            "layout": "IPY_MODEL_c0062f608996432dbb6b726202586137",
            "_model_module": "@jupyter-widgets/controls",
            "children": [
              "IPY_MODEL_bd9bb6d46bcf4233b774a937f1e11988",
              "IPY_MODEL_a177d93fec4c40428515d372a539cc6a"
            ]
          }
        },
        "c0062f608996432dbb6b726202586137": {
          "model_module": "@jupyter-widgets/base",
          "model_name": "LayoutModel",
          "state": {
            "_view_name": "LayoutView",
            "grid_template_rows": null,
            "right": null,
            "justify_content": null,
            "_view_module": "@jupyter-widgets/base",
            "overflow": null,
            "_model_module_version": "1.2.0",
            "_view_count": null,
            "flex_flow": null,
            "width": null,
            "min_width": null,
            "border": null,
            "align_items": null,
            "bottom": null,
            "_model_module": "@jupyter-widgets/base",
            "top": null,
            "grid_column": null,
            "overflow_y": null,
            "overflow_x": null,
            "grid_auto_flow": null,
            "grid_area": null,
            "grid_template_columns": null,
            "flex": null,
            "_model_name": "LayoutModel",
            "justify_items": null,
            "grid_row": null,
            "max_height": null,
            "align_content": null,
            "visibility": null,
            "align_self": null,
            "height": null,
            "min_height": null,
            "padding": null,
            "grid_auto_rows": null,
            "grid_gap": null,
            "max_width": null,
            "order": null,
            "_view_module_version": "1.2.0",
            "grid_template_areas": null,
            "object_position": null,
            "object_fit": null,
            "grid_auto_columns": null,
            "margin": null,
            "display": null,
            "left": null
          }
        },
        "bd9bb6d46bcf4233b774a937f1e11988": {
          "model_module": "@jupyter-widgets/controls",
          "model_name": "FloatProgressModel",
          "state": {
            "_view_name": "ProgressView",
            "style": "IPY_MODEL_c14dc57686fb4c3b8e6d329a0fdd6522",
            "_dom_classes": [],
            "description": "Downloading: 100%",
            "_model_name": "FloatProgressModel",
            "bar_style": "success",
            "max": 536063208,
            "_view_module": "@jupyter-widgets/controls",
            "_model_module_version": "1.5.0",
            "value": 536063208,
            "_view_count": null,
            "_view_module_version": "1.5.0",
            "orientation": "horizontal",
            "min": 0,
            "description_tooltip": null,
            "_model_module": "@jupyter-widgets/controls",
            "layout": "IPY_MODEL_17a3005528a244ba8093ac1c1123ca39"
          }
        },
        "a177d93fec4c40428515d372a539cc6a": {
          "model_module": "@jupyter-widgets/controls",
          "model_name": "HTMLModel",
          "state": {
            "_view_name": "HTMLView",
            "style": "IPY_MODEL_ad53ac152d1845e88a68eb3b43faafac",
            "_dom_classes": [],
            "description": "",
            "_model_name": "HTMLModel",
            "placeholder": "​",
            "_view_module": "@jupyter-widgets/controls",
            "_model_module_version": "1.5.0",
            "value": " 536M/536M [00:08&lt;00:00, 59.9MB/s]",
            "_view_count": null,
            "_view_module_version": "1.5.0",
            "description_tooltip": null,
            "_model_module": "@jupyter-widgets/controls",
            "layout": "IPY_MODEL_0aa782be62314b8e87ca14cad88b4e20"
          }
        },
        "c14dc57686fb4c3b8e6d329a0fdd6522": {
          "model_module": "@jupyter-widgets/controls",
          "model_name": "ProgressStyleModel",
          "state": {
            "_view_name": "StyleView",
            "_model_name": "ProgressStyleModel",
            "description_width": "initial",
            "_view_module": "@jupyter-widgets/base",
            "_model_module_version": "1.5.0",
            "_view_count": null,
            "_view_module_version": "1.2.0",
            "bar_color": null,
            "_model_module": "@jupyter-widgets/controls"
          }
        },
        "17a3005528a244ba8093ac1c1123ca39": {
          "model_module": "@jupyter-widgets/base",
          "model_name": "LayoutModel",
          "state": {
            "_view_name": "LayoutView",
            "grid_template_rows": null,
            "right": null,
            "justify_content": null,
            "_view_module": "@jupyter-widgets/base",
            "overflow": null,
            "_model_module_version": "1.2.0",
            "_view_count": null,
            "flex_flow": null,
            "width": null,
            "min_width": null,
            "border": null,
            "align_items": null,
            "bottom": null,
            "_model_module": "@jupyter-widgets/base",
            "top": null,
            "grid_column": null,
            "overflow_y": null,
            "overflow_x": null,
            "grid_auto_flow": null,
            "grid_area": null,
            "grid_template_columns": null,
            "flex": null,
            "_model_name": "LayoutModel",
            "justify_items": null,
            "grid_row": null,
            "max_height": null,
            "align_content": null,
            "visibility": null,
            "align_self": null,
            "height": null,
            "min_height": null,
            "padding": null,
            "grid_auto_rows": null,
            "grid_gap": null,
            "max_width": null,
            "order": null,
            "_view_module_version": "1.2.0",
            "grid_template_areas": null,
            "object_position": null,
            "object_fit": null,
            "grid_auto_columns": null,
            "margin": null,
            "display": null,
            "left": null
          }
        },
        "ad53ac152d1845e88a68eb3b43faafac": {
          "model_module": "@jupyter-widgets/controls",
          "model_name": "DescriptionStyleModel",
          "state": {
            "_view_name": "StyleView",
            "_model_name": "DescriptionStyleModel",
            "description_width": "",
            "_view_module": "@jupyter-widgets/base",
            "_model_module_version": "1.5.0",
            "_view_count": null,
            "_view_module_version": "1.2.0",
            "_model_module": "@jupyter-widgets/controls"
          }
        },
        "0aa782be62314b8e87ca14cad88b4e20": {
          "model_module": "@jupyter-widgets/base",
          "model_name": "LayoutModel",
          "state": {
            "_view_name": "LayoutView",
            "grid_template_rows": null,
            "right": null,
            "justify_content": null,
            "_view_module": "@jupyter-widgets/base",
            "overflow": null,
            "_model_module_version": "1.2.0",
            "_view_count": null,
            "flex_flow": null,
            "width": null,
            "min_width": null,
            "border": null,
            "align_items": null,
            "bottom": null,
            "_model_module": "@jupyter-widgets/base",
            "top": null,
            "grid_column": null,
            "overflow_y": null,
            "overflow_x": null,
            "grid_auto_flow": null,
            "grid_area": null,
            "grid_template_columns": null,
            "flex": null,
            "_model_name": "LayoutModel",
            "justify_items": null,
            "grid_row": null,
            "max_height": null,
            "align_content": null,
            "visibility": null,
            "align_self": null,
            "height": null,
            "min_height": null,
            "padding": null,
            "grid_auto_rows": null,
            "grid_gap": null,
            "max_width": null,
            "order": null,
            "_view_module_version": "1.2.0",
            "grid_template_areas": null,
            "object_position": null,
            "object_fit": null,
            "grid_auto_columns": null,
            "margin": null,
            "display": null,
            "left": null
          }
        },
        "8e2376ceb55e4808b0d0277e51f98614": {
          "model_module": "@jupyter-widgets/controls",
          "model_name": "HBoxModel",
          "state": {
            "_view_name": "HBoxView",
            "_dom_classes": [],
            "_model_name": "HBoxModel",
            "_view_module": "@jupyter-widgets/controls",
            "_model_module_version": "1.5.0",
            "_view_count": null,
            "_view_module_version": "1.5.0",
            "box_style": "",
            "layout": "IPY_MODEL_b63f20bc24274e3c8424ecdceaf268f7",
            "_model_module": "@jupyter-widgets/controls",
            "children": [
              "IPY_MODEL_21560dbcba9245118db44665f9053294",
              "IPY_MODEL_f21a4d79312848d88491a32a22d88938"
            ]
          }
        },
        "b63f20bc24274e3c8424ecdceaf268f7": {
          "model_module": "@jupyter-widgets/base",
          "model_name": "LayoutModel",
          "state": {
            "_view_name": "LayoutView",
            "grid_template_rows": null,
            "right": null,
            "justify_content": null,
            "_view_module": "@jupyter-widgets/base",
            "overflow": null,
            "_model_module_version": "1.2.0",
            "_view_count": null,
            "flex_flow": null,
            "width": null,
            "min_width": null,
            "border": null,
            "align_items": null,
            "bottom": null,
            "_model_module": "@jupyter-widgets/base",
            "top": null,
            "grid_column": null,
            "overflow_y": null,
            "overflow_x": null,
            "grid_auto_flow": null,
            "grid_area": null,
            "grid_template_columns": null,
            "flex": null,
            "_model_name": "LayoutModel",
            "justify_items": null,
            "grid_row": null,
            "max_height": null,
            "align_content": null,
            "visibility": null,
            "align_self": null,
            "height": null,
            "min_height": null,
            "padding": null,
            "grid_auto_rows": null,
            "grid_gap": null,
            "max_width": null,
            "order": null,
            "_view_module_version": "1.2.0",
            "grid_template_areas": null,
            "object_position": null,
            "object_fit": null,
            "grid_auto_columns": null,
            "margin": null,
            "display": null,
            "left": null
          }
        },
        "21560dbcba9245118db44665f9053294": {
          "model_module": "@jupyter-widgets/controls",
          "model_name": "FloatProgressModel",
          "state": {
            "_view_name": "ProgressView",
            "style": "IPY_MODEL_60abc3f7afae45bd8aa1e191d5dbb915",
            "_dom_classes": [],
            "description": "Downloading: 100%",
            "_model_name": "FloatProgressModel",
            "bar_style": "success",
            "max": 231508,
            "_view_module": "@jupyter-widgets/controls",
            "_model_module_version": "1.5.0",
            "value": 231508,
            "_view_count": null,
            "_view_module_version": "1.5.0",
            "orientation": "horizontal",
            "min": 0,
            "description_tooltip": null,
            "_model_module": "@jupyter-widgets/controls",
            "layout": "IPY_MODEL_e68a4d6e5a374897a2460f4001f5230d"
          }
        },
        "f21a4d79312848d88491a32a22d88938": {
          "model_module": "@jupyter-widgets/controls",
          "model_name": "HTMLModel",
          "state": {
            "_view_name": "HTMLView",
            "style": "IPY_MODEL_fca8644306b644b5bf4aa76669c0417e",
            "_dom_classes": [],
            "description": "",
            "_model_name": "HTMLModel",
            "placeholder": "​",
            "_view_module": "@jupyter-widgets/controls",
            "_model_module_version": "1.5.0",
            "value": " 232k/232k [00:00&lt;00:00, 3.28MB/s]",
            "_view_count": null,
            "_view_module_version": "1.5.0",
            "description_tooltip": null,
            "_model_module": "@jupyter-widgets/controls",
            "layout": "IPY_MODEL_166da19fc45546a49f0a33679589682b"
          }
        },
        "60abc3f7afae45bd8aa1e191d5dbb915": {
          "model_module": "@jupyter-widgets/controls",
          "model_name": "ProgressStyleModel",
          "state": {
            "_view_name": "StyleView",
            "_model_name": "ProgressStyleModel",
            "description_width": "initial",
            "_view_module": "@jupyter-widgets/base",
            "_model_module_version": "1.5.0",
            "_view_count": null,
            "_view_module_version": "1.2.0",
            "bar_color": null,
            "_model_module": "@jupyter-widgets/controls"
          }
        },
        "e68a4d6e5a374897a2460f4001f5230d": {
          "model_module": "@jupyter-widgets/base",
          "model_name": "LayoutModel",
          "state": {
            "_view_name": "LayoutView",
            "grid_template_rows": null,
            "right": null,
            "justify_content": null,
            "_view_module": "@jupyter-widgets/base",
            "overflow": null,
            "_model_module_version": "1.2.0",
            "_view_count": null,
            "flex_flow": null,
            "width": null,
            "min_width": null,
            "border": null,
            "align_items": null,
            "bottom": null,
            "_model_module": "@jupyter-widgets/base",
            "top": null,
            "grid_column": null,
            "overflow_y": null,
            "overflow_x": null,
            "grid_auto_flow": null,
            "grid_area": null,
            "grid_template_columns": null,
            "flex": null,
            "_model_name": "LayoutModel",
            "justify_items": null,
            "grid_row": null,
            "max_height": null,
            "align_content": null,
            "visibility": null,
            "align_self": null,
            "height": null,
            "min_height": null,
            "padding": null,
            "grid_auto_rows": null,
            "grid_gap": null,
            "max_width": null,
            "order": null,
            "_view_module_version": "1.2.0",
            "grid_template_areas": null,
            "object_position": null,
            "object_fit": null,
            "grid_auto_columns": null,
            "margin": null,
            "display": null,
            "left": null
          }
        },
        "fca8644306b644b5bf4aa76669c0417e": {
          "model_module": "@jupyter-widgets/controls",
          "model_name": "DescriptionStyleModel",
          "state": {
            "_view_name": "StyleView",
            "_model_name": "DescriptionStyleModel",
            "description_width": "",
            "_view_module": "@jupyter-widgets/base",
            "_model_module_version": "1.5.0",
            "_view_count": null,
            "_view_module_version": "1.2.0",
            "_model_module": "@jupyter-widgets/controls"
          }
        },
        "166da19fc45546a49f0a33679589682b": {
          "model_module": "@jupyter-widgets/base",
          "model_name": "LayoutModel",
          "state": {
            "_view_name": "LayoutView",
            "grid_template_rows": null,
            "right": null,
            "justify_content": null,
            "_view_module": "@jupyter-widgets/base",
            "overflow": null,
            "_model_module_version": "1.2.0",
            "_view_count": null,
            "flex_flow": null,
            "width": null,
            "min_width": null,
            "border": null,
            "align_items": null,
            "bottom": null,
            "_model_module": "@jupyter-widgets/base",
            "top": null,
            "grid_column": null,
            "overflow_y": null,
            "overflow_x": null,
            "grid_auto_flow": null,
            "grid_area": null,
            "grid_template_columns": null,
            "flex": null,
            "_model_name": "LayoutModel",
            "justify_items": null,
            "grid_row": null,
            "max_height": null,
            "align_content": null,
            "visibility": null,
            "align_self": null,
            "height": null,
            "min_height": null,
            "padding": null,
            "grid_auto_rows": null,
            "grid_gap": null,
            "max_width": null,
            "order": null,
            "_view_module_version": "1.2.0",
            "grid_template_areas": null,
            "object_position": null,
            "object_fit": null,
            "grid_auto_columns": null,
            "margin": null,
            "display": null,
            "left": null
          }
        }
      }
    }
  },
  "cells": [
    {
      "cell_type": "markdown",
      "metadata": {
        "id": "tX2GXwhA6STm"
      },
      "source": [
        "# **Import and Download module**"
      ]
    },
    {
      "cell_type": "code",
      "metadata": {
        "colab": {
          "base_uri": "https://localhost:8080/"
        },
        "id": "lNEP4-n9jD_b",
        "outputId": "32d58bd2-a4fc-40c1-b97e-a6168a376673"
      },
      "source": [
        "!wget https://github.com/Natthapolmnc/BertSentimentAnalysis/raw/main/data_set/reviews_Musical_Instruments_5.json.gz"
      ],
      "execution_count": null,
      "outputs": [
        {
          "output_type": "stream",
          "text": [
            "--2021-03-15 11:22:01--  https://github.com/Natthapolmnc/BertSentimentAnalysis/raw/main/data_set/reviews_Musical_Instruments_5.json.gz\n",
            "Resolving github.com (github.com)... 140.82.113.3\n",
            "Connecting to github.com (github.com)|140.82.113.3|:443... connected.\n",
            "HTTP request sent, awaiting response... 302 Found\n",
            "Location: https://raw.githubusercontent.com/Natthapolmnc/BertSentimentAnalysis/main/data_set/reviews_Musical_Instruments_5.json.gz [following]\n",
            "--2021-03-15 11:22:01--  https://raw.githubusercontent.com/Natthapolmnc/BertSentimentAnalysis/main/data_set/reviews_Musical_Instruments_5.json.gz\n",
            "Resolving raw.githubusercontent.com (raw.githubusercontent.com)... 185.199.108.133, 185.199.109.133, 185.199.110.133, ...\n",
            "Connecting to raw.githubusercontent.com (raw.githubusercontent.com)|185.199.108.133|:443... connected.\n",
            "HTTP request sent, awaiting response... 200 OK\n",
            "Length: 2460495 (2.3M) [application/octet-stream]\n",
            "Saving to: ‘reviews_Musical_Instruments_5.json.gz’\n",
            "\n",
            "reviews_Musical_Ins 100%[===================>]   2.35M  --.-KB/s    in 0.04s   \n",
            "\n",
            "2021-03-15 11:22:01 (63.8 MB/s) - ‘reviews_Musical_Instruments_5.json.gz’ saved [2460495/2460495]\n",
            "\n"
          ],
          "name": "stdout"
        }
      ]
    },
    {
      "cell_type": "code",
      "metadata": {
        "colab": {
          "base_uri": "https://localhost:8080/"
        },
        "id": "G8pjbu4akU7W",
        "outputId": "e115cf64-e85b-4324-c397-48fef4c09489"
      },
      "source": [
        "!pip install tokenizers"
      ],
      "execution_count": null,
      "outputs": [
        {
          "output_type": "stream",
          "text": [
            "Collecting tokenizers\n",
            "\u001b[?25l  Downloading https://files.pythonhosted.org/packages/71/23/2ddc317b2121117bf34dd00f5b0de194158f2a44ee2bf5e47c7166878a97/tokenizers-0.10.1-cp37-cp37m-manylinux2010_x86_64.whl (3.2MB)\n",
            "\u001b[K     |████████████████████████████████| 3.2MB 18.8MB/s \n",
            "\u001b[?25hInstalling collected packages: tokenizers\n",
            "Successfully installed tokenizers-0.10.1\n"
          ],
          "name": "stdout"
        }
      ]
    },
    {
      "cell_type": "code",
      "metadata": {
        "colab": {
          "base_uri": "https://localhost:8080/"
        },
        "id": "TkfTFkGZkiWs",
        "outputId": "d13d3338-6e73-44e3-ca67-1f7df9872f6c"
      },
      "source": [
        "!pip install transformers"
      ],
      "execution_count": null,
      "outputs": [
        {
          "output_type": "stream",
          "text": [
            "Collecting transformers\n",
            "\u001b[?25l  Downloading https://files.pythonhosted.org/packages/f9/54/5ca07ec9569d2f232f3166de5457b63943882f7950ddfcc887732fc7fb23/transformers-4.3.3-py3-none-any.whl (1.9MB)\n",
            "\u001b[K     |████████████████████████████████| 1.9MB 17.5MB/s \n",
            "\u001b[?25hRequirement already satisfied: tqdm>=4.27 in /usr/local/lib/python3.7/dist-packages (from transformers) (4.41.1)\n",
            "Requirement already satisfied: importlib-metadata; python_version < \"3.8\" in /usr/local/lib/python3.7/dist-packages (from transformers) (3.7.0)\n",
            "Collecting sacremoses\n",
            "\u001b[?25l  Downloading https://files.pythonhosted.org/packages/7d/34/09d19aff26edcc8eb2a01bed8e98f13a1537005d31e95233fd48216eed10/sacremoses-0.0.43.tar.gz (883kB)\n",
            "\u001b[K     |████████████████████████████████| 890kB 41.8MB/s \n",
            "\u001b[?25hRequirement already satisfied: requests in /usr/local/lib/python3.7/dist-packages (from transformers) (2.23.0)\n",
            "Requirement already satisfied: packaging in /usr/local/lib/python3.7/dist-packages (from transformers) (20.9)\n",
            "Requirement already satisfied: numpy>=1.17 in /usr/local/lib/python3.7/dist-packages (from transformers) (1.19.5)\n",
            "Requirement already satisfied: tokenizers<0.11,>=0.10.1 in /usr/local/lib/python3.7/dist-packages (from transformers) (0.10.1)\n",
            "Requirement already satisfied: filelock in /usr/local/lib/python3.7/dist-packages (from transformers) (3.0.12)\n",
            "Requirement already satisfied: regex!=2019.12.17 in /usr/local/lib/python3.7/dist-packages (from transformers) (2019.12.20)\n",
            "Requirement already satisfied: typing-extensions>=3.6.4; python_version < \"3.8\" in /usr/local/lib/python3.7/dist-packages (from importlib-metadata; python_version < \"3.8\"->transformers) (3.7.4.3)\n",
            "Requirement already satisfied: zipp>=0.5 in /usr/local/lib/python3.7/dist-packages (from importlib-metadata; python_version < \"3.8\"->transformers) (3.4.1)\n",
            "Requirement already satisfied: six in /usr/local/lib/python3.7/dist-packages (from sacremoses->transformers) (1.15.0)\n",
            "Requirement already satisfied: click in /usr/local/lib/python3.7/dist-packages (from sacremoses->transformers) (7.1.2)\n",
            "Requirement already satisfied: joblib in /usr/local/lib/python3.7/dist-packages (from sacremoses->transformers) (1.0.1)\n",
            "Requirement already satisfied: chardet<4,>=3.0.2 in /usr/local/lib/python3.7/dist-packages (from requests->transformers) (3.0.4)\n",
            "Requirement already satisfied: urllib3!=1.25.0,!=1.25.1,<1.26,>=1.21.1 in /usr/local/lib/python3.7/dist-packages (from requests->transformers) (1.24.3)\n",
            "Requirement already satisfied: idna<3,>=2.5 in /usr/local/lib/python3.7/dist-packages (from requests->transformers) (2.10)\n",
            "Requirement already satisfied: certifi>=2017.4.17 in /usr/local/lib/python3.7/dist-packages (from requests->transformers) (2020.12.5)\n",
            "Requirement already satisfied: pyparsing>=2.0.2 in /usr/local/lib/python3.7/dist-packages (from packaging->transformers) (2.4.7)\n",
            "Building wheels for collected packages: sacremoses\n",
            "  Building wheel for sacremoses (setup.py) ... \u001b[?25l\u001b[?25hdone\n",
            "  Created wheel for sacremoses: filename=sacremoses-0.0.43-cp37-none-any.whl size=893262 sha256=90e6e02d9df13969152fbaa6478b7de120ef52f5a085006086331fd3ae8c0cb7\n",
            "  Stored in directory: /root/.cache/pip/wheels/29/3c/fd/7ce5c3f0666dab31a50123635e6fb5e19ceb42ce38d4e58f45\n",
            "Successfully built sacremoses\n",
            "Installing collected packages: sacremoses, transformers\n",
            "Successfully installed sacremoses-0.0.43 transformers-4.3.3\n"
          ],
          "name": "stdout"
        }
      ]
    },
    {
      "cell_type": "code",
      "metadata": {
        "id": "a1-wgnyghEbf"
      },
      "source": [
        "import pandas as pd\n",
        "import os\n",
        "import pickle as pkl\n",
        "import numpy as np\n",
        "import gzip\n",
        "import tensorflow as tf\n",
        "from tensorflow.keras.preprocessing.sequence import pad_sequences\n",
        "from tensorflow.keras.utils import to_categorical\n",
        "from tokenizers import BertWordPieceTokenizer\n",
        "from transformers import BertTokenizer, TFBertModel, BertConfig"
      ],
      "execution_count": null,
      "outputs": []
    },
    {
      "cell_type": "code",
      "metadata": {
        "id": "5aDmFqTkFgNu"
      },
      "source": [
        "configuration = BertConfig(num_hidden_layers=2,num_attention_heads=4)"
      ],
      "execution_count": null,
      "outputs": []
    },
    {
      "cell_type": "code",
      "metadata": {
        "colab": {
          "base_uri": "https://localhost:8080/",
          "height": 230,
          "referenced_widgets": [
            "2e733c4f841f49f0af28369e89369195",
            "f1effaaefeee4f5dbe84aac12c1dfb35",
            "0199b582bc3f4cee8c6e329279a9fdda",
            "d5a479890cf14772b194ca5fb504598e",
            "8d5b3117b8d44bbda25f6ca62b755834",
            "fabb0e7f6c6543c689463c3aba879482",
            "66a5f23eab854b7384005d1efac30bf4",
            "870ed0f5be0d4e70b79afebab3375cb0",
            "c1d67d2f17774f71a1aaf0140eb3862b",
            "c0062f608996432dbb6b726202586137",
            "bd9bb6d46bcf4233b774a937f1e11988",
            "a177d93fec4c40428515d372a539cc6a",
            "c14dc57686fb4c3b8e6d329a0fdd6522",
            "17a3005528a244ba8093ac1c1123ca39",
            "ad53ac152d1845e88a68eb3b43faafac",
            "0aa782be62314b8e87ca14cad88b4e20"
          ]
        },
        "id": "-93OIEGD21J_",
        "outputId": "e6ef9cdb-8f39-485b-92c8-7d9fd3900f01"
      },
      "source": [
        "encoder = TFBertModel.from_pretrained(\"bert-base-uncased\")"
      ],
      "execution_count": null,
      "outputs": [
        {
          "output_type": "display_data",
          "data": {
            "application/vnd.jupyter.widget-view+json": {
              "model_id": "2e733c4f841f49f0af28369e89369195",
              "version_minor": 0,
              "version_major": 2
            },
            "text/plain": [
              "HBox(children=(FloatProgress(value=0.0, description='Downloading', max=433.0, style=ProgressStyle(description_…"
            ]
          },
          "metadata": {
            "tags": []
          }
        },
        {
          "output_type": "stream",
          "text": [
            "\n"
          ],
          "name": "stdout"
        },
        {
          "output_type": "display_data",
          "data": {
            "application/vnd.jupyter.widget-view+json": {
              "model_id": "c1d67d2f17774f71a1aaf0140eb3862b",
              "version_minor": 0,
              "version_major": 2
            },
            "text/plain": [
              "HBox(children=(FloatProgress(value=0.0, description='Downloading', max=536063208.0, style=ProgressStyle(descri…"
            ]
          },
          "metadata": {
            "tags": []
          }
        },
        {
          "output_type": "stream",
          "text": [
            "\n"
          ],
          "name": "stdout"
        },
        {
          "output_type": "stream",
          "text": [
            "Some layers from the model checkpoint at bert-base-uncased were not used when initializing TFBertModel: ['nsp___cls', 'mlm___cls']\n",
            "- This IS expected if you are initializing TFBertModel from the checkpoint of a model trained on another task or with another architecture (e.g. initializing a BertForSequenceClassification model from a BertForPreTraining model).\n",
            "- This IS NOT expected if you are initializing TFBertModel from the checkpoint of a model that you expect to be exactly identical (initializing a BertForSequenceClassification model from a BertForSequenceClassification model).\n",
            "All the layers of TFBertModel were initialized from the model checkpoint at bert-base-uncased.\n",
            "If your task is similar to the task the model of the checkpoint was trained on, you can already use TFBertModel for predictions without further training.\n"
          ],
          "name": "stderr"
        }
      ]
    },
    {
      "cell_type": "markdown",
      "metadata": {
        "id": "0EUe5p3_im0P"
      },
      "source": [
        "# **Bert data-prep**"
      ]
    },
    {
      "cell_type": "code",
      "metadata": {
        "id": "rWQxNzIf4wYl"
      },
      "source": [
        "np.random.seed(42)"
      ],
      "execution_count": null,
      "outputs": []
    },
    {
      "cell_type": "code",
      "metadata": {
        "id": "kX05RlJ74abO"
      },
      "source": [
        "def StratifiedSplit(dat,label_name,split_ratio):\n",
        "  total_row=dat.count()[0]\n",
        "  labels=dat[label_name].unique()\n",
        "  ratio_dict={}\n",
        "  for i in labels:\n",
        "    ratio_dict[i]=dat.where(dat[label_name]==i).dropna().count()[0]/total_row\n",
        "  num_sample=int(total_row*split_ratio)\n",
        "  test_df=pd.DataFrame(columns=dat.columns)\n",
        "  train_df=pd.DataFrame(columns=dat.columns)\n",
        "  for i in labels:\n",
        "    num_sample_label =int(num_sample*ratio_dict[i])\n",
        "    dat_sm=dat.where(dat[label_name]==i).dropna()\n",
        "    dat_sm=dat_sm.sample(frac=1)\n",
        "    msk = np.random.rand(dat_sm.count()[0]) < (num_sample_label/dat_sm.count()[0])\n",
        "    test_df=test_df.append(dat_sm[msk])\n",
        "    train_df=train_df.append(dat_sm[~msk])\n",
        "  return (train_df, test_df)"
      ],
      "execution_count": null,
      "outputs": []
    },
    {
      "cell_type": "code",
      "metadata": {
        "id": "q1TWHpsHlDxj"
      },
      "source": [
        "def parse(path):\n",
        "  g = gzip.open(path, 'rb')\n",
        "  for l in g:\n",
        "    yield eval(l)\n",
        "\n",
        "def getDF(path):\n",
        "  i = 0\n",
        "  df = {}\n",
        "  for d in parse(path):\n",
        "    df[i] = d\n",
        "    i += 1\n",
        "  return pd.DataFrame.from_dict(df, orient='index')\n",
        "\n",
        "df = getDF('/content/reviews_Musical_Instruments_5.json.gz')\n",
        "df = df[['reviewText','overall']]"
      ],
      "execution_count": null,
      "outputs": []
    },
    {
      "cell_type": "code",
      "metadata": {
        "colab": {
          "base_uri": "https://localhost:8080/"
        },
        "id": "znAdjSdsnzHy",
        "outputId": "c8b64fb0-1a1e-40af-bc51-25f9c8b11ff6"
      },
      "source": [
        "df.info()"
      ],
      "execution_count": null,
      "outputs": [
        {
          "output_type": "stream",
          "text": [
            "<class 'pandas.core.frame.DataFrame'>\n",
            "Int64Index: 10261 entries, 0 to 10260\n",
            "Data columns (total 2 columns):\n",
            " #   Column      Non-Null Count  Dtype  \n",
            "---  ------      --------------  -----  \n",
            " 0   reviewText  10261 non-null  object \n",
            " 1   overall     10261 non-null  float64\n",
            "dtypes: float64(1), object(1)\n",
            "memory usage: 240.5+ KB\n"
          ],
          "name": "stdout"
        }
      ]
    },
    {
      "cell_type": "code",
      "metadata": {
        "id": "rpQVv8L_w8U2"
      },
      "source": [
        "max_seq=500\n",
        "min_seq=50"
      ],
      "execution_count": null,
      "outputs": []
    },
    {
      "cell_type": "code",
      "metadata": {
        "id": "H-YnDx1or-4t"
      },
      "source": [
        "def splitSentiment(x):\n",
        "  if x<3:\n",
        "    return 0\n",
        "  elif x==3:\n",
        "    return 1\n",
        "  elif x>3:\n",
        "    return 2"
      ],
      "execution_count": null,
      "outputs": []
    },
    {
      "cell_type": "code",
      "metadata": {
        "id": "riORUj4PmMnF"
      },
      "source": [
        "df=df[(df['reviewText'].apply(lambda x: x.split()).apply(lambda x:len(x))<max_seq) & (df['reviewText'].apply(lambda x: x.split()).apply(lambda x:len(x))>min_seq)]"
      ],
      "execution_count": null,
      "outputs": []
    },
    {
      "cell_type": "code",
      "metadata": {
        "id": "8JoKybCs6ZKk"
      },
      "source": [
        "good = df[df['overall']>=4]\n",
        "neutral = df[df['overall']==3]\n",
        "bad = df[df['overall']<=2]\n",
        "_min = min(good.shape[0],neutral.shape[0],bad.shape[0])\n",
        "good = good.sample(n=_min)\n",
        "neutral = neutral.sample(n=_min)\n",
        "bad = bad.sample(n=_min)\n",
        "df = pd.concat([good,neutral,bad])\n",
        "df = df.sample(frac=1)"
      ],
      "execution_count": null,
      "outputs": []
    },
    {
      "cell_type": "code",
      "metadata": {
        "id": "Tn0vgMzWrxLe"
      },
      "source": [
        "df[\"overall\"]=df[\"overall\"].apply(splitSentiment)"
      ],
      "execution_count": null,
      "outputs": []
    },
    {
      "cell_type": "code",
      "metadata": {
        "colab": {
          "base_uri": "https://localhost:8080/",
          "height": 283
        },
        "id": "b2ltozrlsOiM",
        "outputId": "d937bcfc-437a-4ee1-a86a-7333eb1d3240"
      },
      "source": [
        "df[\"overall\"].hist()"
      ],
      "execution_count": null,
      "outputs": [
        {
          "output_type": "execute_result",
          "data": {
            "text/plain": [
              "<matplotlib.axes._subplots.AxesSubplot at 0x7fb7f6e1f1d0>"
            ]
          },
          "metadata": {
            "tags": []
          },
          "execution_count": 17
        },
        {
          "output_type": "display_data",
          "data": {
            "image/png": "[encoded data removed]",
            "text/plain": [
              "<Figure size 432x288 with 1 Axes>"
            ]
          },
          "metadata": {
            "tags": [],
            "needs_background": "light"
          }
        }
      ]
    },
    {
      "cell_type": "code",
      "metadata": {
        "id": "ec9w-Pux4dkJ"
      },
      "source": [
        "train_, test_=StratifiedSplit(df,\"overall\",0.2)"
      ],
      "execution_count": null,
      "outputs": []
    },
    {
      "cell_type": "code",
      "metadata": {
        "id": "4S1ESoN1l7Rs",
        "colab": {
          "base_uri": "https://localhost:8080/",
          "height": 67,
          "referenced_widgets": [
            "8e2376ceb55e4808b0d0277e51f98614",
            "b63f20bc24274e3c8424ecdceaf268f7",
            "21560dbcba9245118db44665f9053294",
            "f21a4d79312848d88491a32a22d88938",
            "60abc3f7afae45bd8aa1e191d5dbb915",
            "e68a4d6e5a374897a2460f4001f5230d",
            "fca8644306b644b5bf4aa76669c0417e",
            "166da19fc45546a49f0a33679589682b"
          ]
        },
        "outputId": "1ec908ec-f42a-4162-ad97-5e05d2a46483"
      },
      "source": [
        "### LOAD BERT TOKENIZERS ###\n",
        "# Save the slow pretrained tokenizer\n",
        "slow_tokenizer = BertTokenizer.from_pretrained(\"bert-base-uncased\")\n",
        "save_path = \"bert_base_uncased/\"\n",
        "if not os.path.exists(save_path):\n",
        "    os.makedirs(save_path)\n",
        "slow_tokenizer.save_pretrained(save_path)\n",
        "\n",
        "# Load the fast tokenizer from saved file\n",
        "tokenizer = BertWordPieceTokenizer(\"bert_base_uncased/vocab.txt\", lowercase=True)"
      ],
      "execution_count": null,
      "outputs": [
        {
          "output_type": "display_data",
          "data": {
            "application/vnd.jupyter.widget-view+json": {
              "model_id": "8e2376ceb55e4808b0d0277e51f98614",
              "version_minor": 0,
              "version_major": 2
            },
            "text/plain": [
              "HBox(children=(FloatProgress(value=0.0, description='Downloading', max=231508.0, style=ProgressStyle(descripti…"
            ]
          },
          "metadata": {
            "tags": []
          }
        },
        {
          "output_type": "stream",
          "text": [
            "\n"
          ],
          "name": "stdout"
        }
      ]
    },
    {
      "cell_type": "code",
      "metadata": {
        "colab": {
          "base_uri": "https://localhost:8080/",
          "height": 424
        },
        "id": "aV6w_IzRqocs",
        "outputId": "4b0f6e39-72b8-4db4-b8ee-1d3591eadd6e"
      },
      "source": [
        "train_"
      ],
      "execution_count": null,
      "outputs": [
        {
          "output_type": "execute_result",
          "data": {
            "text/html": [
              "<div>\n",
              "<style scoped>\n",
              "    .dataframe tbody tr th:only-of-type {\n",
              "        vertical-align: middle;\n",
              "    }\n",
              "\n",
              "    .dataframe tbody tr th {\n",
              "        vertical-align: top;\n",
              "    }\n",
              "\n",
              "    .dataframe thead th {\n",
              "        text-align: right;\n",
              "    }\n",
              "</style>\n",
              "<table border=\"1\" class=\"dataframe\">\n",
              "  <thead>\n",
              "    <tr style=\"text-align: right;\">\n",
              "      <th></th>\n",
              "      <th>reviewText</th>\n",
              "      <th>overall</th>\n",
              "    </tr>\n",
              "  </thead>\n",
              "  <tbody>\n",
              "    <tr>\n",
              "      <th>3425</th>\n",
              "      <td>I was hoping the Lemon oil would be what I nee...</td>\n",
              "      <td>1.0</td>\n",
              "    </tr>\n",
              "    <tr>\n",
              "      <th>4818</th>\n",
              "      <td>Behringer makes quality products - I purchased...</td>\n",
              "      <td>1.0</td>\n",
              "    </tr>\n",
              "    <tr>\n",
              "      <th>2039</th>\n",
              "      <td>I used this on the side of a wooden bookshelf ...</td>\n",
              "      <td>1.0</td>\n",
              "    </tr>\n",
              "    <tr>\n",
              "      <th>8283</th>\n",
              "      <td>I've owned four of these over the past two yea...</td>\n",
              "      <td>1.0</td>\n",
              "    </tr>\n",
              "    <tr>\n",
              "      <th>5709</th>\n",
              "      <td>I was looking for an Overdrive or Distortion p...</td>\n",
              "      <td>1.0</td>\n",
              "    </tr>\n",
              "    <tr>\n",
              "      <th>...</th>\n",
              "      <td>...</td>\n",
              "      <td>...</td>\n",
              "    </tr>\n",
              "    <tr>\n",
              "      <th>7206</th>\n",
              "      <td>So i decided to amplify my Martin Dreadnaught ...</td>\n",
              "      <td>2.0</td>\n",
              "    </tr>\n",
              "    <tr>\n",
              "      <th>9422</th>\n",
              "      <td>The product is here and I am glad the size is ...</td>\n",
              "      <td>2.0</td>\n",
              "    </tr>\n",
              "    <tr>\n",
              "      <th>5423</th>\n",
              "      <td>Im using this with five pedals and it works gr...</td>\n",
              "      <td>2.0</td>\n",
              "    </tr>\n",
              "    <tr>\n",
              "      <th>1107</th>\n",
              "      <td>I bought this mic after hearing good things ab...</td>\n",
              "      <td>2.0</td>\n",
              "    </tr>\n",
              "    <tr>\n",
              "      <th>7942</th>\n",
              "      <td>Great mic for the price. Is it a SM58? No, but...</td>\n",
              "      <td>2.0</td>\n",
              "    </tr>\n",
              "  </tbody>\n",
              "</table>\n",
              "<p>732 rows × 2 columns</p>\n",
              "</div>"
            ],
            "text/plain": [
              "                                             reviewText  overall\n",
              "3425  I was hoping the Lemon oil would be what I nee...      1.0\n",
              "4818  Behringer makes quality products - I purchased...      1.0\n",
              "2039  I used this on the side of a wooden bookshelf ...      1.0\n",
              "8283  I've owned four of these over the past two yea...      1.0\n",
              "5709  I was looking for an Overdrive or Distortion p...      1.0\n",
              "...                                                 ...      ...\n",
              "7206  So i decided to amplify my Martin Dreadnaught ...      2.0\n",
              "9422  The product is here and I am glad the size is ...      2.0\n",
              "5423  Im using this with five pedals and it works gr...      2.0\n",
              "1107  I bought this mic after hearing good things ab...      2.0\n",
              "7942  Great mic for the price. Is it a SM58? No, but...      2.0\n",
              "\n",
              "[732 rows x 2 columns]"
            ]
          },
          "metadata": {
            "tags": []
          },
          "execution_count": 20
        }
      ]
    },
    {
      "cell_type": "code",
      "metadata": {
        "id": "dj8URhxvyQZP"
      },
      "source": [
        "x_ids_tr=[tokenizer.encode(i).ids for i in train_[\"reviewText\"]]\n",
        "x_ids_tr=pad_sequences(x_ids_tr,maxlen=max_seq,padding=\"post\")\n",
        "x_msk_tr=[tokenizer.encode(i).attention_mask for i in train_[\"reviewText\"]]\n",
        "x_msk_tr=pad_sequences(x_msk_tr,maxlen=max_seq,padding=\"post\")\n",
        "y_tr=to_categorical(train_[\"overall\"].values)"
      ],
      "execution_count": null,
      "outputs": []
    },
    {
      "cell_type": "code",
      "metadata": {
        "colab": {
          "base_uri": "https://localhost:8080/"
        },
        "id": "KGcelmdixSKg",
        "outputId": "ed60903d-7fb1-4e41-ec5b-cb8bdc1b6e9c"
      },
      "source": [
        "train_[\"overall\"]"
      ],
      "execution_count": null,
      "outputs": [
        {
          "output_type": "execute_result",
          "data": {
            "text/plain": [
              "3425    1.0\n",
              "4818    1.0\n",
              "2039    1.0\n",
              "8283    1.0\n",
              "5709    1.0\n",
              "       ... \n",
              "7206    2.0\n",
              "9422    2.0\n",
              "5423    2.0\n",
              "1107    2.0\n",
              "7942    2.0\n",
              "Name: overall, Length: 732, dtype: float64"
            ]
          },
          "metadata": {
            "tags": []
          },
          "execution_count": 21
        }
      ]
    },
    {
      "cell_type": "code",
      "metadata": {
        "id": "Vu7TjiK71b6Q"
      },
      "source": [
        "x_ids_t=[tokenizer.encode(i).ids for i in test_[\"reviewText\"]]\n",
        "x_ids_t=pad_sequences(x_ids_t,maxlen=max_seq,padding=\"post\")\n",
        "x_msk_t=[tokenizer.encode(i).attention_mask for i in test_[\"reviewText\"]]\n",
        "x_msk_t=pad_sequences(x_msk_t,maxlen=max_seq,padding=\"post\")\n",
        "y_t=to_categorical(test_[\"overall\"].values)"
      ],
      "execution_count": null,
      "outputs": []
    },
    {
      "cell_type": "markdown",
      "metadata": {
        "id": "qPbScC4D3Qf_"
      },
      "source": [
        "# **BERT Model**"
      ]
    },
    {
      "cell_type": "code",
      "metadata": {
        "colab": {
          "base_uri": "https://localhost:8080/"
        },
        "id": "ABDgW2Cd2nnC",
        "outputId": "3fdab09d-38cc-4a89-83d5-595403069dbd"
      },
      "source": [
        "#Bert\n",
        "input_ids = tf.keras.layers.Input(shape=(max_seq,), dtype=tf.int32)\n",
        "attn_mask = tf.keras.layers.Input(shape=(max_seq,), dtype=tf.int32)\n",
        "## CLS=1 All word emb=0\n",
        "wrd_embedding = encoder(input_ids, attention_mask=attn_mask)[0]\n",
        "\n",
        "### Attention\n",
        "drop=tf.keras.layers.Dropout(0.8)(wrd_embedding)\n",
        "res=tf.keras.layers.Dense(8,activation=\"softmax\")(drop)\n",
        "\n",
        "### Result Dense\n",
        "res=tf.keras.layers.Dense(4,activation=\"softmax\")(drop)"
      ],
      "execution_count": null,
      "outputs": [
        {
          "output_type": "stream",
          "text": [
            "WARNING:tensorflow:The parameters `output_attentions`, `output_hidden_states` and `use_cache` cannot be updated when calling a model.They have to be set to True/False in the config object (i.e.: `config=XConfig.from_pretrained('name', output_attentions=True)`).WARNING:tensorflow:AutoGraph could not transform <bound method Socket.send of <zmq.sugar.socket.Socket object at 0x7f9c7ce086c8>> and will run it as-is.\n",
            "Please report this to the TensorFlow team. When filing the bug, set the verbosity to 10 (on Linux, `export AUTOGRAPH_VERBOSITY=10`) and attach the full output.\n",
            "Cause: <cyfunction Socket.send at 0x7f9c9a2eb2a0> is not a module, class, method, function, traceback, frame, or code object\n",
            "To silence this warning, decorate the function with @tf.autograph.experimental.do_not_convert\n",
            "WARNING: AutoGraph could not transform <bound method Socket.send of <zmq.sugar.socket.Socket object at 0x7f9c7ce086c8>> and will run it as-is.\n",
            "Please report this to the TensorFlow team. When filing the bug, set the verbosity to 10 (on Linux, `export AUTOGRAPH_VERBOSITY=10`) and attach the full output.\n",
            "Cause: <cyfunction Socket.send at 0x7f9c9a2eb2a0> is not a module, class, method, function, traceback, frame, or code object\n",
            "To silence this warning, decorate the function with @tf.autograph.experimental.do_not_convert\n",
            "\n",
            "WARNING:tensorflow:AutoGraph could not transform <function wrap at 0x7f9c980c2c80> and will run it as-is.\n",
            "Cause: while/else statement not yet supported\n",
            "To silence this warning, decorate the function with @tf.autograph.experimental.do_not_convert\n",
            "WARNING: AutoGraph could not transform <function wrap at 0x7f9c980c2c80> and will run it as-is.\n",
            "Cause: while/else statement not yet supported\n",
            "To silence this warning, decorate the function with @tf.autograph.experimental.do_not_convert\n",
            "WARNING:tensorflow:The parameter `return_dict` cannot be set in graph mode and will always be set to `True`.\n"
          ],
          "name": "stdout"
        },
        {
          "output_type": "stream",
          "text": [
            "\n",
            "KeyboardInterrupt\n",
            "\n"
          ],
          "name": "stderr"
        }
      ]
    },
    {
      "cell_type": "code",
      "metadata": {
        "id": "_dzEbGqeJkmG"
      },
      "source": [
        "callbacks = [\n",
        "    tf.keras.callbacks.EarlyStopping(\n",
        "        # Stop training when `val_loss` is no longer improving\n",
        "        monitor=\"val_loss\",\n",
        "        # \"no longer improving\" being further defined as \"for at least 10 epochs\"\n",
        "        patience=3,\n",
        "        verbose=1,\n",
        "    )\n",
        "]"
      ],
      "execution_count": null,
      "outputs": []
    },
    {
      "cell_type": "code",
      "metadata": {
        "colab": {
          "base_uri": "https://localhost:8080/"
        },
        "id": "zLtEyQRB7RZN",
        "outputId": "d4761d07-dea9-45ea-b610-83d7361fea96"
      },
      "source": [
        "model=tf.keras.Model(inputs=[input_ids,attn_mask] ,outputs=res)\n",
        "model.summary()"
      ],
      "execution_count": null,
      "outputs": [
        {
          "output_type": "stream",
          "text": [
            "Model: \"model_5\"\n",
            "__________________________________________________________________________________________________\n",
            "Layer (type)                    Output Shape         Param #     Connected to                     \n",
            "==================================================================================================\n",
            "input_13 (InputLayer)           [(None, 500)]        0                                            \n",
            "__________________________________________________________________________________________________\n",
            "input_14 (InputLayer)           [(None, 500)]        0                                            \n",
            "__________________________________________________________________________________________________\n",
            "tf_bert_model (TFBertModel)     TFBaseModelOutputWit 109482240   input_13[0][0]                   \n",
            "                                                                 input_14[0][0]                   \n",
            "__________________________________________________________________________________________________\n",
            "dense_23 (Dense)                (None, 500, 16)      12304       tf_bert_model[6][0]              \n",
            "__________________________________________________________________________________________________\n",
            "dense_24 (Dense)                (None, 500, 16)      12304       tf_bert_model[6][0]              \n",
            "__________________________________________________________________________________________________\n",
            "dense_25 (Dense)                (None, 500, 16)      12304       tf_bert_model[6][0]              \n",
            "__________________________________________________________________________________________________\n",
            "attention_6 (Attention)         (None, 500, 16)      0           dense_23[0][0]                   \n",
            "                                                                 dense_24[0][0]                   \n",
            "                                                                 dense_25[0][0]                   \n",
            "__________________________________________________________________________________________________\n",
            "flatten_6 (Flatten)             (None, 8000)         0           attention_6[0][0]                \n",
            "__________________________________________________________________________________________________\n",
            "dropout_41 (Dropout)            (None, 8000)         0           flatten_6[0][0]                  \n",
            "__________________________________________________________________________________________________\n",
            "dense_26 (Dense)                (None, 3)            24003       dropout_41[0][0]                 \n",
            "==================================================================================================\n",
            "Total params: 109,543,155\n",
            "Trainable params: 60,915\n",
            "Non-trainable params: 109,482,240\n",
            "__________________________________________________________________________________________________\n"
          ],
          "name": "stdout"
        }
      ]
    },
    {
      "cell_type": "code",
      "metadata": {
        "id": "jgTXvDIA_dHi"
      },
      "source": [
        "model.compile(optimizer=tf.keras.optimizers.Adam(0.001),loss=tf.keras.losses.CategoricalCrossentropy(),metrics=[\"accuracy\"])"
      ],
      "execution_count": null,
      "outputs": []
    },
    {
      "cell_type": "code",
      "metadata": {
        "colab": {
          "base_uri": "https://localhost:8080/"
        },
        "id": "kq6Fa4I6-2Mm",
        "outputId": "1fbb2697-bde6-41f5-bc2c-46b1fc2c5d28"
      },
      "source": [
        "history=model.fit(x=[x_ids_tr,x_msk_tr],y=y_tr,epochs=10,validation_data=([x_ids_t,x_msk_t],y_t),verbose=1,batch_size=64,callbacks=callbacks)"
      ],
      "execution_count": null,
      "outputs": [
        {
          "output_type": "stream",
          "text": [
            "Epoch 1/20\n",
            "WARNING:tensorflow:The parameters `output_attentions`, `output_hidden_states` and `use_cache` cannot be updated when calling a model.They have to be set to True/False in the config object (i.e.: `config=XConfig.from_pretrained('name', output_attentions=True)`).\n",
            "WARNING:tensorflow:The parameter `return_dict` cannot be set in graph mode and will always be set to `True`.\n",
            "WARNING:tensorflow:The parameters `output_attentions`, `output_hidden_states` and `use_cache` cannot be updated when calling a model.They have to be set to True/False in the config object (i.e.: `config=XConfig.from_pretrained('name', output_attentions=True)`).\n",
            "WARNING:tensorflow:The parameter `return_dict` cannot be set in graph mode and will always be set to `True`.\n",
            "12/12 [==============================] - ETA: 0s - loss: 3.6652 - accuracy: 0.3781WARNING:tensorflow:The parameters `output_attentions`, `output_hidden_states` and `use_cache` cannot be updated when calling a model.They have to be set to True/False in the config object (i.e.: `config=XConfig.from_pretrained('name', output_attentions=True)`).\n",
            "WARNING:tensorflow:The parameter `return_dict` cannot be set in graph mode and will always be set to `True`.\n",
            "12/12 [==============================] - 49s 4s/step - loss: 3.5799 - accuracy: 0.3762 - val_loss: 1.1898 - val_accuracy: 0.3509\n",
            "Epoch 2/20\n",
            "12/12 [==============================] - 41s 3s/step - loss: 1.1710 - accuracy: 0.3458 - val_loss: 1.1084 - val_accuracy: 0.3743\n",
            "Epoch 3/20\n",
            "12/12 [==============================] - 42s 4s/step - loss: 1.1092 - accuracy: 0.3488 - val_loss: 1.1028 - val_accuracy: 0.3743\n",
            "Epoch 4/20\n",
            "12/12 [==============================] - 42s 4s/step - loss: 1.1044 - accuracy: 0.3349 - val_loss: 1.1016 - val_accuracy: 0.3743\n",
            "Epoch 5/20\n",
            "12/12 [==============================] - 42s 4s/step - loss: 1.1030 - accuracy: 0.3622 - val_loss: 1.1011 - val_accuracy: 0.4386\n",
            "Epoch 6/20\n",
            "12/12 [==============================] - 42s 4s/step - loss: 1.1005 - accuracy: 0.3983 - val_loss: 1.1008 - val_accuracy: 0.4386\n",
            "Epoch 7/20\n",
            "12/12 [==============================] - 42s 4s/step - loss: 1.1010 - accuracy: 0.3811 - val_loss: 1.1005 - val_accuracy: 0.4152\n",
            "Epoch 8/20\n",
            "12/12 [==============================] - 42s 4s/step - loss: 1.1006 - accuracy: 0.3732 - val_loss: 1.1002 - val_accuracy: 0.4035\n",
            "Epoch 9/20\n",
            "12/12 [==============================] - 42s 4s/step - loss: 1.0999 - accuracy: 0.3838 - val_loss: 1.0999 - val_accuracy: 0.3977\n",
            "Epoch 10/20\n",
            "12/12 [==============================] - 42s 4s/step - loss: 1.0991 - accuracy: 0.3874 - val_loss: 1.0995 - val_accuracy: 0.4035\n",
            "Epoch 11/20\n",
            "12/12 [==============================] - 43s 4s/step - loss: 1.0984 - accuracy: 0.3907 - val_loss: 1.0988 - val_accuracy: 0.4152\n",
            "Epoch 12/20\n",
            "12/12 [==============================] - 42s 4s/step - loss: 1.0970 - accuracy: 0.3955 - val_loss: 1.0967 - val_accuracy: 0.4035\n",
            "Epoch 13/20\n",
            "12/12 [==============================] - 42s 4s/step - loss: 1.0938 - accuracy: 0.3998 - val_loss: 1.0910 - val_accuracy: 0.4094\n",
            "Epoch 14/20\n",
            "12/12 [==============================] - 42s 4s/step - loss: 1.0822 - accuracy: 0.3729 - val_loss: 1.0831 - val_accuracy: 0.3918\n",
            "Epoch 15/20\n",
            "12/12 [==============================] - 42s 4s/step - loss: 1.0599 - accuracy: 0.3625 - val_loss: 1.0718 - val_accuracy: 0.4094\n",
            "Epoch 16/20\n",
            "12/12 [==============================] - 42s 4s/step - loss: 1.0480 - accuracy: 0.4094 - val_loss: 1.0523 - val_accuracy: 0.4444\n",
            "Epoch 17/20\n",
            "12/12 [==============================] - 42s 4s/step - loss: 1.0166 - accuracy: 0.4549 - val_loss: 1.0308 - val_accuracy: 0.4444\n",
            "Epoch 18/20\n",
            "12/12 [==============================] - 42s 4s/step - loss: 0.9795 - accuracy: 0.4663 - val_loss: 1.0184 - val_accuracy: 0.4386\n",
            "Epoch 19/20\n",
            "12/12 [==============================] - 42s 4s/step - loss: 0.9802 - accuracy: 0.5143 - val_loss: 1.0293 - val_accuracy: 0.4503\n",
            "Epoch 20/20\n",
            "12/12 [==============================] - 42s 4s/step - loss: 0.9074 - accuracy: 0.5280 - val_loss: 1.0047 - val_accuracy: 0.5263\n"
          ],
          "name": "stdout"
        }
      ]
    },
    {
      "cell_type": "code",
      "metadata": {
        "id": "EkDBTplY-zxz"
      },
      "source": [
        ""
      ],
      "execution_count": null,
      "outputs": []
    }
  ]
}